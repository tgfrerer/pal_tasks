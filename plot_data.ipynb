{
 "cells": [
  {
   "cell_type": "code",
   "execution_count": 48,
   "id": "f696281d",
   "metadata": {},
   "outputs": [
    {
     "name": "stdout",
     "output_type": "stream",
     "text": [
      "    Thread count  Wall clock time (ms)\n",
      "24             0               6509.82\n",
      "6              1               3358.98\n",
      "0              2               2293.74\n",
      "29             3               1678.83\n",
      "30             4               1378.78\n",
      "5              5               1168.01\n",
      "12             6               1019.71\n",
      "26             7                905.18\n",
      "20             8                823.32\n",
      "13             9                726.96\n",
      "22            10                630.86\n",
      "7             11                673.40\n",
      "31            12                639.12\n",
      "16            13                586.35\n",
      "27            14                572.68\n",
      "10            15                479.33\n",
      "25            16                475.98\n",
      "28            17                462.48\n",
      "15            18                450.48\n",
      "11            19                390.83\n",
      "14            20                439.00\n",
      "4             21                358.70\n",
      "3             22                365.21\n",
      "2             23                456.29\n",
      "9             24                370.82\n",
      "1             25                373.53\n",
      "23            26                328.23\n",
      "17            27                315.85\n",
      "18            28                329.88\n",
      "21            29                299.00\n",
      "32            30                334.85\n",
      "8             31                314.30\n",
      "19            32                315.16\n"
     ]
    },
    {
     "data": {
      "text/plain": [
       "[<matplotlib.lines.Line2D at 0x7fafde1501f0>]"
      ]
     },
     "execution_count": 48,
     "metadata": {},
     "output_type": "execute_result"
    },
    {
     "data": {
      "image/png": "[encoded data removed]",
      "text/plain": [
       "<Figure size 640x480 with 1 Axes>"
      ]
     },
     "metadata": {},
     "output_type": "display_data"
    }
   ],
   "source": [
    "import pandas as pd\n",
    "import matplotlib.pyplot as plt\n",
    "\n",
    "test_data = pd.read_csv(\"./report_001_a7734fd_2.csv\", engine=\"python\", delimiter=\"\\\\t\", skiprows=[0,1])\n",
    "test_data= test_data.sort_values(by='Thread count')\n",
    "\n",
    "print(test_data)\n",
    "\n",
    "plt.plot(test_data[\"Thread count\"], test_data[\"Wall clock time (ms)\"])"
   ]
  },
  {
   "cell_type": "code",
   "execution_count": 30,
   "id": "8c54b6ef",
   "metadata": {},
   "outputs": [
    {
     "data": {
      "text/html": [
       "<div>\n",
       "<style scoped>\n",
       "    .dataframe tbody tr th:only-of-type {\n",
       "        vertical-align: middle;\n",
       "    }\n",
       "\n",
       "    .dataframe tbody tr th {\n",
       "        vertical-align: top;\n",
       "    }\n",
       "\n",
       "    .dataframe thead th {\n",
       "        text-align: right;\n",
       "    }\n",
       "</style>\n",
       "<table border=\"1\" class=\"dataframe\">\n",
       "  <thead>\n",
       "    <tr style=\"text-align: right;\">\n",
       "      <th></th>\n",
       "      <th>Thread count</th>\n",
       "      <th>Wall clock time (ms)</th>\n",
       "    </tr>\n",
       "  </thead>\n",
       "  <tbody>\n",
       "    <tr>\n",
       "      <th>count</th>\n",
       "      <td>31.000000</td>\n",
       "      <td>31.000000</td>\n",
       "    </tr>\n",
       "    <tr>\n",
       "      <th>mean</th>\n",
       "      <td>16.161290</td>\n",
       "      <td>6294.076774</td>\n",
       "    </tr>\n",
       "    <tr>\n",
       "      <th>std</th>\n",
       "      <td>9.511736</td>\n",
       "      <td>1160.215518</td>\n",
       "    </tr>\n",
       "    <tr>\n",
       "      <th>min</th>\n",
       "      <td>0.000000</td>\n",
       "      <td>42.750000</td>\n",
       "    </tr>\n",
       "    <tr>\n",
       "      <th>25%</th>\n",
       "      <td>8.500000</td>\n",
       "      <td>6498.815000</td>\n",
       "    </tr>\n",
       "    <tr>\n",
       "      <th>50%</th>\n",
       "      <td>16.000000</td>\n",
       "      <td>6500.260000</td>\n",
       "    </tr>\n",
       "    <tr>\n",
       "      <th>75%</th>\n",
       "      <td>23.500000</td>\n",
       "      <td>6505.955000</td>\n",
       "    </tr>\n",
       "    <tr>\n",
       "      <th>max</th>\n",
       "      <td>32.000000</td>\n",
       "      <td>6529.690000</td>\n",
       "    </tr>\n",
       "  </tbody>\n",
       "</table>\n",
       "</div>"
      ],
      "text/plain": [
       "       Thread count  Wall clock time (ms)\n",
       "count     31.000000             31.000000\n",
       "mean      16.161290           6294.076774\n",
       "std        9.511736           1160.215518\n",
       "min        0.000000             42.750000\n",
       "25%        8.500000           6498.815000\n",
       "50%       16.000000           6500.260000\n",
       "75%       23.500000           6505.955000\n",
       "max       32.000000           6529.690000"
      ]
     },
     "execution_count": 30,
     "metadata": {},
     "output_type": "execute_result"
    }
   ],
   "source": [
    "test_data.describe()\n"
   ]
  },
  {
   "cell_type": "code",
   "execution_count": null,
   "id": "923a5021",
   "metadata": {},
   "outputs": [],
   "source": []
  }
 ],
 "metadata": {
  "kernelspec": {
   "display_name": "Python 3 (ipykernel)",
   "language": "python",
   "name": "python3"
  },
  "language_info": {
   "codemirror_mode": {
    "name": "ipython",
    "version": 3
   },
   "file_extension": ".py",
   "mimetype": "text/x-python",
   "name": "python",
   "nbconvert_exporter": "python",
   "pygments_lexer": "ipython3",
   "version": "3.10.12"
  }
 },
 "nbformat": 4,
 "nbformat_minor": 5
}
